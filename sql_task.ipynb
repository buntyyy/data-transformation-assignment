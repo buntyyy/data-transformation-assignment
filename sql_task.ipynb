{
 "cells": [
  {
   "cell_type": "markdown",
   "metadata": {},
   "source": [
    "### Part 1: SQL-Based Table Comparison"
   ]
  },
  {
   "cell_type": "markdown",
   "metadata": {},
   "source": [
    "1. Import these two tables as SQL tables using any SQL-related Python library.\n"
   ]
  },
  {
   "cell_type": "code",
   "execution_count": 1,
   "metadata": {},
   "outputs": [
    {
     "name": "stdout",
     "output_type": "stream",
     "text": [
      "(6, 5)\n",
      "(6, 5)\n"
     ]
    }
   ],
   "source": [
    "import pandas as pd\n",
    "from pandasql import sqldf\n",
    "\n",
    "df1 = pd.read_csv(\"products_day1.csv\")\n",
    "df2 = pd.read_csv(\"products_day2.csv\")\n",
    "print(df1.shape)\n",
    "print(df2.shape)\n",
    "\n",
    "# Defining query function\n",
    "pysqldf = lambda q: sqldf(q, globals())"
   ]
  },
  {
   "cell_type": "code",
   "execution_count": 2,
   "metadata": {},
   "outputs": [
    {
     "data": {
      "text/html": [
       "<div>\n",
       "<style scoped>\n",
       "    .dataframe tbody tr th:only-of-type {\n",
       "        vertical-align: middle;\n",
       "    }\n",
       "\n",
       "    .dataframe tbody tr th {\n",
       "        vertical-align: top;\n",
       "    }\n",
       "\n",
       "    .dataframe thead th {\n",
       "        text-align: right;\n",
       "    }\n",
       "</style>\n",
       "<table border=\"1\" class=\"dataframe\">\n",
       "  <thead>\n",
       "    <tr style=\"text-align: right;\">\n",
       "      <th></th>\n",
       "      <th>product_id</th>\n",
       "      <th>name</th>\n",
       "      <th>category</th>\n",
       "      <th>price</th>\n",
       "      <th>stock</th>\n",
       "    </tr>\n",
       "  </thead>\n",
       "  <tbody>\n",
       "    <tr>\n",
       "      <th>0</th>\n",
       "      <td>101</td>\n",
       "      <td>Wireless Mouse</td>\n",
       "      <td>Electronics</td>\n",
       "      <td>25.99</td>\n",
       "      <td>120</td>\n",
       "    </tr>\n",
       "    <tr>\n",
       "      <th>1</th>\n",
       "      <td>102</td>\n",
       "      <td>Water Bottle</td>\n",
       "      <td>Kitchen</td>\n",
       "      <td>10.50</td>\n",
       "      <td>200</td>\n",
       "    </tr>\n",
       "    <tr>\n",
       "      <th>2</th>\n",
       "      <td>103</td>\n",
       "      <td>Bluetooth Speaker</td>\n",
       "      <td>Electronics</td>\n",
       "      <td>49.99</td>\n",
       "      <td>75</td>\n",
       "    </tr>\n",
       "    <tr>\n",
       "      <th>3</th>\n",
       "      <td>104</td>\n",
       "      <td>Yoga Mat</td>\n",
       "      <td>Fitness</td>\n",
       "      <td>20.00</td>\n",
       "      <td>60</td>\n",
       "    </tr>\n",
       "    <tr>\n",
       "      <th>4</th>\n",
       "      <td>105</td>\n",
       "      <td>Desk Lamp</td>\n",
       "      <td>Furniture</td>\n",
       "      <td>35.00</td>\n",
       "      <td>90</td>\n",
       "    </tr>\n",
       "  </tbody>\n",
       "</table>\n",
       "</div>"
      ],
      "text/plain": [
       "   product_id               name     category  price  stock\n",
       "0         101     Wireless Mouse  Electronics  25.99    120\n",
       "1         102       Water Bottle      Kitchen  10.50    200\n",
       "2         103  Bluetooth Speaker  Electronics  49.99     75\n",
       "3         104           Yoga Mat      Fitness  20.00     60\n",
       "4         105          Desk Lamp    Furniture  35.00     90"
      ]
     },
     "execution_count": 2,
     "metadata": {},
     "output_type": "execute_result"
    }
   ],
   "source": [
    "df1.head() # checking top 5 rows in table 1"
   ]
  },
  {
   "cell_type": "code",
   "execution_count": 3,
   "metadata": {},
   "outputs": [
    {
     "data": {
      "text/html": [
       "<div>\n",
       "<style scoped>\n",
       "    .dataframe tbody tr th:only-of-type {\n",
       "        vertical-align: middle;\n",
       "    }\n",
       "\n",
       "    .dataframe tbody tr th {\n",
       "        vertical-align: top;\n",
       "    }\n",
       "\n",
       "    .dataframe thead th {\n",
       "        text-align: right;\n",
       "    }\n",
       "</style>\n",
       "<table border=\"1\" class=\"dataframe\">\n",
       "  <thead>\n",
       "    <tr style=\"text-align: right;\">\n",
       "      <th></th>\n",
       "      <th>product_id</th>\n",
       "      <th>name</th>\n",
       "      <th>category</th>\n",
       "      <th>price</th>\n",
       "      <th>stock</th>\n",
       "    </tr>\n",
       "  </thead>\n",
       "  <tbody>\n",
       "    <tr>\n",
       "      <th>0</th>\n",
       "      <td>101</td>\n",
       "      <td>Wireless Mouse</td>\n",
       "      <td>Electronics</td>\n",
       "      <td>23.99</td>\n",
       "      <td>120</td>\n",
       "    </tr>\n",
       "    <tr>\n",
       "      <th>1</th>\n",
       "      <td>102</td>\n",
       "      <td>Water Bottle</td>\n",
       "      <td>Kitchen</td>\n",
       "      <td>10.50</td>\n",
       "      <td>180</td>\n",
       "    </tr>\n",
       "    <tr>\n",
       "      <th>2</th>\n",
       "      <td>103</td>\n",
       "      <td>Bluetooth Speaker</td>\n",
       "      <td>Electronics</td>\n",
       "      <td>49.99</td>\n",
       "      <td>75</td>\n",
       "    </tr>\n",
       "    <tr>\n",
       "      <th>3</th>\n",
       "      <td>104</td>\n",
       "      <td>Yoga Mat</td>\n",
       "      <td>Fitness</td>\n",
       "      <td>20.00</td>\n",
       "      <td>60</td>\n",
       "    </tr>\n",
       "    <tr>\n",
       "      <th>4</th>\n",
       "      <td>105</td>\n",
       "      <td>Desk Lamp</td>\n",
       "      <td>Furniture</td>\n",
       "      <td>37.00</td>\n",
       "      <td>90</td>\n",
       "    </tr>\n",
       "  </tbody>\n",
       "</table>\n",
       "</div>"
      ],
      "text/plain": [
       "   product_id               name     category  price  stock\n",
       "0         101     Wireless Mouse  Electronics  23.99    120\n",
       "1         102       Water Bottle      Kitchen  10.50    180\n",
       "2         103  Bluetooth Speaker  Electronics  49.99     75\n",
       "3         104           Yoga Mat      Fitness  20.00     60\n",
       "4         105          Desk Lamp    Furniture  37.00     90"
      ]
     },
     "execution_count": 3,
     "metadata": {},
     "output_type": "execute_result"
    }
   ],
   "source": [
    "df2.head() # checking top 5 rows in table 2"
   ]
  },
  {
   "cell_type": "markdown",
   "metadata": {},
   "source": [
    "2. Write SQL queries to:\n",
    "- Identify full rows that were ADDED or REMOVED."
   ]
  },
  {
   "cell_type": "code",
   "execution_count": 4,
   "metadata": {},
   "outputs": [
    {
     "data": {
      "text/html": [
       "<div>\n",
       "<style scoped>\n",
       "    .dataframe tbody tr th:only-of-type {\n",
       "        vertical-align: middle;\n",
       "    }\n",
       "\n",
       "    .dataframe tbody tr th {\n",
       "        vertical-align: top;\n",
       "    }\n",
       "\n",
       "    .dataframe thead th {\n",
       "        text-align: right;\n",
       "    }\n",
       "</style>\n",
       "<table border=\"1\" class=\"dataframe\">\n",
       "  <thead>\n",
       "    <tr style=\"text-align: right;\">\n",
       "      <th></th>\n",
       "      <th>product_id</th>\n",
       "      <th>name</th>\n",
       "      <th>category</th>\n",
       "      <th>price</th>\n",
       "      <th>stock</th>\n",
       "      <th>change_type</th>\n",
       "    </tr>\n",
       "  </thead>\n",
       "  <tbody>\n",
       "    <tr>\n",
       "      <th>0</th>\n",
       "      <td>106</td>\n",
       "      <td>Notebook</td>\n",
       "      <td>Stationery</td>\n",
       "      <td>2.99</td>\n",
       "      <td>300</td>\n",
       "      <td>removed</td>\n",
       "    </tr>\n",
       "    <tr>\n",
       "      <th>1</th>\n",
       "      <td>107</td>\n",
       "      <td>Smart Watch</td>\n",
       "      <td>Wearables</td>\n",
       "      <td>99.00</td>\n",
       "      <td>50</td>\n",
       "      <td>added</td>\n",
       "    </tr>\n",
       "  </tbody>\n",
       "</table>\n",
       "</div>"
      ],
      "text/plain": [
       "   product_id         name    category  price  stock change_type\n",
       "0         106     Notebook  Stationery   2.99    300     removed\n",
       "1         107  Smart Watch   Wearables  99.00     50       added"
      ]
     },
     "execution_count": 4,
     "metadata": {},
     "output_type": "execute_result"
    }
   ],
   "source": [
    "query = \"\"\"\n",
    "SELECT *, \"removed\" as change_type\n",
    "from df1 where df1.product_id not in (select distinct product_id from df2)\n",
    "UNION\n",
    "SELECT *, \"added\" as change_type\n",
    "from df2 where df2.product_id not in (select distinct product_id from df1)\n",
    "\n",
    "\"\"\"\n",
    "\n",
    "sql_task_2 = pysqldf(query)\n",
    "sql_task_2"
   ]
  },
  {
   "cell_type": "markdown",
   "metadata": {},
   "source": [
    "- Compare matching rows and detect column-level changes (e.g., price, stock)."
   ]
  },
  {
   "cell_type": "code",
   "execution_count": 5,
   "metadata": {},
   "outputs": [
    {
     "data": {
      "text/html": [
       "<div>\n",
       "<style scoped>\n",
       "    .dataframe tbody tr th:only-of-type {\n",
       "        vertical-align: middle;\n",
       "    }\n",
       "\n",
       "    .dataframe tbody tr th {\n",
       "        vertical-align: top;\n",
       "    }\n",
       "\n",
       "    .dataframe thead th {\n",
       "        text-align: right;\n",
       "    }\n",
       "</style>\n",
       "<table border=\"1\" class=\"dataframe\">\n",
       "  <thead>\n",
       "    <tr style=\"text-align: right;\">\n",
       "      <th></th>\n",
       "      <th>product_id</th>\n",
       "      <th>column_changed</th>\n",
       "      <th>old_value</th>\n",
       "      <th>new_value</th>\n",
       "    </tr>\n",
       "  </thead>\n",
       "  <tbody>\n",
       "    <tr>\n",
       "      <th>0</th>\n",
       "      <td>101</td>\n",
       "      <td>price</td>\n",
       "      <td>25.99</td>\n",
       "      <td>23.99</td>\n",
       "    </tr>\n",
       "    <tr>\n",
       "      <th>1</th>\n",
       "      <td>102</td>\n",
       "      <td>stock</td>\n",
       "      <td>200.00</td>\n",
       "      <td>180.00</td>\n",
       "    </tr>\n",
       "    <tr>\n",
       "      <th>2</th>\n",
       "      <td>105</td>\n",
       "      <td>price</td>\n",
       "      <td>35.00</td>\n",
       "      <td>37.00</td>\n",
       "    </tr>\n",
       "  </tbody>\n",
       "</table>\n",
       "</div>"
      ],
      "text/plain": [
       "   product_id column_changed  old_value  new_value\n",
       "0         101          price      25.99      23.99\n",
       "1         102          stock     200.00     180.00\n",
       "2         105          price      35.00      37.00"
      ]
     },
     "execution_count": 5,
     "metadata": {},
     "output_type": "execute_result"
    }
   ],
   "source": [
    "query = \"\"\"\n",
    "SELECT \n",
    "    df1.product_id,\n",
    "    'price' AS column_changed,\n",
    "    df1.price AS old_value,\n",
    "    df2.price AS new_value\n",
    "FROM df1\n",
    "JOIN df2 ON df1.product_id = df2.product_id\n",
    "WHERE df1.price != df2.price\n",
    "\n",
    "UNION ALL\n",
    "\n",
    "SELECT \n",
    "    df1.product_id,\n",
    "    'stock' AS column_changed,\n",
    "    df1.stock AS old_value,\n",
    "    df2.stock AS new_value\n",
    "FROM df1\n",
    "JOIN df2 ON df1.product_id = df2.product_id\n",
    "WHERE df1.stock != df2.stock\n",
    "order by df1.product_id;\n",
    "\n",
    "\"\"\"\n",
    "sql_task_3 = pysqldf(query)\n",
    "sql_task_3"
   ]
  },
  {
   "cell_type": "code",
   "execution_count": null,
   "metadata": {},
   "outputs": [],
   "source": []
  },
  {
   "cell_type": "code",
   "execution_count": null,
   "metadata": {},
   "outputs": [],
   "source": []
  }
 ],
 "metadata": {
  "kernelspec": {
   "display_name": "Python 3",
   "language": "python",
   "name": "python3"
  },
  "language_info": {
   "codemirror_mode": {
    "name": "ipython",
    "version": 3
   },
   "file_extension": ".py",
   "mimetype": "text/x-python",
   "name": "python",
   "nbconvert_exporter": "python",
   "pygments_lexer": "ipython3",
   "version": "3.6.9"
  }
 },
 "nbformat": 4,
 "nbformat_minor": 4
}
